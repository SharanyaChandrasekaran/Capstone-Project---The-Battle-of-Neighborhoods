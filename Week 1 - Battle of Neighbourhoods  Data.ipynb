{
 "cells": [
  {
   "cell_type": "markdown",
   "metadata": {},
   "source": [
    "# Coursera Capstone Project – The Battle of Neighbourhoods\n",
    "\n",
    "## IBM Applied Data Science Capstone: Opening an Ethical Lebanese Restaurant in New York\n",
    "\n",
    "### By: Sharanya Chandrasekaran\n",
    "#### January 2021\n",
    "\n",
    "\n",
    "## Data Requirements:\n",
    "\n",
    "### 1. Data\n",
    "To solve the problem, we will need the following data:\n",
    "a) New York city data containing the neighbourhoods and boroughs\n",
    "b) Latitude and Longitude coordinates of those neighbourhoods. This is required to plot the map and get the venue data\n",
    "c) Venue data, particularly data related to restaurants. We are going to use this data to perform further analysis of the neighbourhoods\n",
    "\n",
    "### 2. Data Source and Methods to Extract them\n",
    "New York city data containing the neighbourhoods and boroughs will be obtained from the open data source:  <br>https://cocl.us/new_york_dataset.\n",
    "\n",
    "After it, we will get the geo spatial coordinates of the neighbourhoods (latitude, longitude) using Python Geocoder Package.\n",
    "\n",
    "Finally, we will use Foursquare API to get the venue data for the neighbourhoods defined at the previous step. Foursquare has one of the largest databases of 105+ million places andover 125,000 developers use this application. \n",
    "Foursquare API provides many categories of the venue data; we are particularly interested in the restaurant data to solve the business problem defined above. This project will require using many data science skills, from\n",
    "web scrapping (open-source data set), working with API (Foursquare), data cleaning, data wrangling, to map visualization (Folium). In the next Methodology section, we will discuss and describe any exploratory data analysis that \n",
    "we did, any inferential statistical testing that we performed, and what machine learning techniques were used\n",
    "\n",
    "### 3. Combine all of those into a working Data Set to cluster and geo spatial map of the results showing the best neighborhood to open a new Lebanese Restaurant Supply Store\n",
    "\n",
    "Combining all of these data sets will clearly demonstrate the following:\n",
    "- which neighborhoods in New York have clusters of like Restaurants\n",
    "- how many restaurants each neighborhoods has\n",
    "- the average ratings, likes and tips of the top 5 venues in the New York City and their neighborhoods\n",
    "- which neighborhood should be the target to open the new Lebanese restaurant\n",
    "\n"
   ]
  },
  {
   "cell_type": "code",
   "execution_count": null,
   "metadata": {},
   "outputs": [],
   "source": []
  }
 ],
 "metadata": {
  "kernelspec": {
   "display_name": "Python 3.7",
   "language": "python",
   "name": "python3"
  },
  "language_info": {
   "codemirror_mode": {
    "name": "ipython",
    "version": 3
   },
   "file_extension": ".py",
   "mimetype": "text/x-python",
   "name": "python",
   "nbconvert_exporter": "python",
   "pygments_lexer": "ipython3",
   "version": "3.7.9"
  }
 },
 "nbformat": 4,
 "nbformat_minor": 2
}
